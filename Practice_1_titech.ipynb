{
  "nbformat": 4,
  "nbformat_minor": 0,
  "metadata": {
    "colab": {
      "name": "Practice_1_titech.ipynb",
      "provenance": [],
      "collapsed_sections": [],
      "toc_visible": true,
      "include_colab_link": true
    },
    "kernelspec": {
      "name": "python3",
      "display_name": "Python 3"
    },
    "language_info": {
      "name": "python"
    }
  },
  "cells": [
    {
      "cell_type": "markdown",
      "metadata": {
        "id": "view-in-github",
        "colab_type": "text"
      },
      "source": [
        "<a href=\"https://colab.research.google.com/github/penguin64-128/python_practive1_titech/blob/main/Practice_1_titech.ipynb\" target=\"_parent\"><img src=\"https://colab.research.google.com/assets/colab-badge.svg\" alt=\"Open In Colab\"/></a>"
      ]
    },
    {
      "cell_type": "markdown",
      "metadata": {
        "id": "isakd5qPZ2eu"
      },
      "source": [
        "# Methodology of Mathematical and Computational Analysis I  \n",
        "Graduate Major in Technology and Innovation Management  \n",
        "Tokyo Institute of Technology  \n",
        "2021 - Q1  \n",
        "Class 3, Programming exercise 1  \n",
        "\n",
        "Sasahara Kazutoshi, Mejia Cristian  \n",
        "contact: `mejia.c.aa@m.titech.ac.jp`\n"
      ]
    },
    {
      "cell_type": "markdown",
      "metadata": {
        "id": "vgZ455meZLgm"
      },
      "source": [
        "![Picture1.png](data:image/png;base64,iVBORw0KGgoAAAANSUhEUgAABIMAAABpCAMAAACeRRMyAAAAAXNSR0IArs4c6QAAAARnQU1BAACxjwv8YQUAAAAGUExURe9HbwAAAMvjc5QAAAACdFJOU/8A5bcwSgAAAAlwSFlzAAAXEQAAFxEByibzPwAAAI1JREFUeF7twTEBAAAAwqD1T20MHyAAAAAAAAAAAAAAAAAAAAAAAAAAAAAAAAAAAAAAAAAAAAAAAAAAAAAAAAAAAAAAAAAAAAAAAAAAAAAAAAAAAAAAAAAAAAAAAAAAAAAAAAAAAAAAAAAAAAAAAAAAAAAAAAAAAAAAAAAAAAAAAAAAAAAAAAAAAAC4qAHaMwABy+5C8gAAAABJRU5ErkJggg==)"
      ]
    },
    {
      "cell_type": "markdown",
      "metadata": {
        "id": "FQmaOfn_bUZY"
      },
      "source": [
        "## Part 1. The basics of Python"
      ]
    },
    {
      "cell_type": "markdown",
      "metadata": {
        "id": "gLI501CNeBL_"
      },
      "source": [
        "### Python as a calculator  \n",
        "\n",
        "Out of the box Python can be used as any calculator.  \n",
        "\n",
        "Note: The next block is called a `cell`. The mathematical operations written in the cell can be executed by clicking on the `play` button on the left or by hitting `Shift+Enter`.  "
      ]
    },
    {
      "cell_type": "code",
      "metadata": {
        "id": "SZ-fAws2dvav"
      },
      "source": [
        "6*6"
      ],
      "execution_count": null,
      "outputs": []
    },
    {
      "cell_type": "code",
      "metadata": {
        "id": "mx_eeU0ud1Zw"
      },
      "source": [
        "(100-20*3)/4"
      ],
      "execution_count": null,
      "outputs": []
    },
    {
      "cell_type": "markdown",
      "metadata": {
        "id": "AHx31NaRkwMG"
      },
      "source": [
        "In the previous lines, we've seen two different data types:  \n",
        " * **integers**, also known as whole numbers, and  \n",
        " * **floating point numbers**, also known as decimal numbers.  \n",
        "\n",
        "To perform other mathematical computations we need the help of a `library`. A `library` is a collection of `functions`.  Let's see how to compute the square root of 81.\n",
        "\n"
      ]
    },
    {
      "cell_type": "code",
      "metadata": {
        "id": "2iRwEBXzkwyq"
      },
      "source": [
        "import math\n",
        "math.sqrt(81)"
      ],
      "execution_count": null,
      "outputs": []
    },
    {
      "cell_type": "markdown",
      "metadata": {
        "id": "vtXUfsXMp9Rc"
      },
      "source": [
        "In the previous `cell` we told Python, we want to use the **math** library by using the **import** statement. Then, we used the `sqrt()` function from the **math** library. You can check the list of function available in the **math** library [here](https://docs.python.org/3/library/math.html).\n",
        "\n",
        "\n",
        "\n"
      ]
    },
    {
      "cell_type": "markdown",
      "metadata": {
        "id": "1PNTjBC-sCto"
      },
      "source": [
        "🔴 #1\n",
        "#### Your turn!  \n",
        "By using the math library compute the cosine of pi."
      ]
    },
    {
      "cell_type": "code",
      "metadata": {
        "id": "gosIGJaKxKSt"
      },
      "source": [
        ""
      ],
      "execution_count": null,
      "outputs": []
    },
    {
      "cell_type": "markdown",
      "metadata": {
        "id": "rrJ-MVMSxYuh"
      },
      "source": [
        "In python we can define variables using the **=** sign:"
      ]
    },
    {
      "cell_type": "code",
      "metadata": {
        "id": "nmg8V5DnxpeU"
      },
      "source": [
        "width = 20\n",
        "length = 30\n",
        "area = length*width\n",
        "area"
      ],
      "execution_count": null,
      "outputs": []
    },
    {
      "cell_type": "markdown",
      "metadata": {
        "id": "5F4MRYDhx0QR"
      },
      "source": [
        "If you try to access a variable that you haven't yet defined, you get an error:"
      ]
    },
    {
      "cell_type": "code",
      "metadata": {
        "id": "PUlJLHYkxyfx"
      },
      "source": [
        "volume"
      ],
      "execution_count": null,
      "outputs": []
    },
    {
      "cell_type": "markdown",
      "metadata": {
        "id": "hIRK2woKx8TK"
      },
      "source": [
        "So, you need to define it:"
      ]
    },
    {
      "cell_type": "code",
      "metadata": {
        "id": "LnxUCViDx-iB"
      },
      "source": [
        "depth = 10\n",
        "volume = area*depth\n",
        "volume"
      ],
      "execution_count": null,
      "outputs": []
    },
    {
      "cell_type": "markdown",
      "metadata": {
        "id": "MImJQA5BxPCo"
      },
      "source": [
        "### Strings  \n",
        "\n",
        "**Strings** are another data type. They are printable characters (i.e. text), and can be defined using either single or double quotes."
      ]
    },
    {
      "cell_type": "code",
      "metadata": {
        "id": "Tmb81S7R3fDe"
      },
      "source": [
        "'Hello world!'"
      ],
      "execution_count": null,
      "outputs": []
    },
    {
      "cell_type": "code",
      "metadata": {
        "id": "Eq66EWpK3ioo"
      },
      "source": [
        "\"Hello world!\""
      ],
      "execution_count": null,
      "outputs": []
    },
    {
      "cell_type": "markdown",
      "metadata": {
        "id": "YwwdkBh833ba"
      },
      "source": [
        "Using single or double quote is usually based on our preference. But sometimes, it depends of what we write:  "
      ]
    },
    {
      "cell_type": "code",
      "metadata": {
        "id": "4I69jGOK4HfN"
      },
      "source": [
        "\"I'm Tokodai Taro\""
      ],
      "execution_count": null,
      "outputs": []
    },
    {
      "cell_type": "code",
      "metadata": {
        "id": "55-vVefE4Ogn"
      },
      "source": [
        "'She asked, \"How are you today?\"'"
      ],
      "execution_count": null,
      "outputs": []
    },
    {
      "cell_type": "markdown",
      "metadata": {
        "id": "-60CVuGh4USC"
      },
      "source": [
        "ust like the other two data objects we're familiar with (ints and floats), you can assign a string to a variable. The **print** statement is often used for printing character strings:\n"
      ]
    },
    {
      "cell_type": "code",
      "metadata": {
        "id": "4YaJnV9k4Tak"
      },
      "source": [
        "greeting = \"Hello, World!\""
      ],
      "execution_count": null,
      "outputs": []
    },
    {
      "cell_type": "code",
      "metadata": {
        "id": "9ejFrGU44jX1"
      },
      "source": [
        "print(greeting)"
      ],
      "execution_count": null,
      "outputs": []
    },
    {
      "cell_type": "markdown",
      "metadata": {
        "id": "V1wNGV-L4rgy"
      },
      "source": [
        "But it can also print data types other than strings:"
      ]
    },
    {
      "cell_type": "code",
      "metadata": {
        "id": "Ts_iA0KU61GB"
      },
      "source": [
        "print(\"The area is \", area)"
      ],
      "execution_count": null,
      "outputs": []
    },
    {
      "cell_type": "markdown",
      "metadata": {
        "id": "rqz3Lhen6_Ry"
      },
      "source": [
        "In the above snipped, the number 600 (stored in the variable \"area\") is converted into a string before being printed out.\n",
        "\n",
        "You can use the **+** operator to concatenate strings together:"
      ]
    },
    {
      "cell_type": "code",
      "metadata": {
        "id": "sc7Sxws87EKf"
      },
      "source": [
        "statement = \"Hello,\" + \"World!\"\n",
        "print(statement)"
      ],
      "execution_count": null,
      "outputs": []
    },
    {
      "cell_type": "markdown",
      "metadata": {
        "id": "4jLbF9DY7MaV"
      },
      "source": [
        "Don't forget the space between the strings, if you want one there."
      ]
    },
    {
      "cell_type": "code",
      "metadata": {
        "id": "Sme-rXBe7NuW"
      },
      "source": [
        "statement = \"Hello, \" + \"World!\"\n",
        "print(statement)"
      ],
      "execution_count": null,
      "outputs": []
    },
    {
      "cell_type": "markdown",
      "metadata": {
        "id": "LAdKtHWI7SMg"
      },
      "source": [
        "You can use + to concatenate multiple strings in a single statement:"
      ]
    },
    {
      "cell_type": "code",
      "metadata": {
        "id": "5UlR3_hY7TRV"
      },
      "source": [
        "print(\"This \" + \"is \" + \"a \" + \"longer \" + \"statement.\")"
      ],
      "execution_count": null,
      "outputs": []
    },
    {
      "cell_type": "markdown",
      "metadata": {
        "id": "F_PN-Yy385oT"
      },
      "source": [
        "### Lists  \n",
        "\n",
        "Very often in a programming language, one wants to keep a group of similar items together. Python does this using a data type called **lists**. A list is created by adding elements inside square brackets `[]` or inside `list()` separated by a comma."
      ]
    },
    {
      "cell_type": "code",
      "metadata": {
        "id": "i2fQlE8e9FbW"
      },
      "source": [
        "days_of_the_week = [\"Sunday\",\"Monday\",\"Tuesday\",\"Wednesday\",\"Thursday\",\"Friday\",\"Saturday\"]"
      ],
      "execution_count": null,
      "outputs": []
    },
    {
      "cell_type": "markdown",
      "metadata": {
        "id": "XUEFnQCH9XY1"
      },
      "source": [
        "You can access members of the list using the index of that item:"
      ]
    },
    {
      "cell_type": "code",
      "metadata": {
        "id": "3RvXEe2n9JP2"
      },
      "source": [
        "days_of_the_week[2]"
      ],
      "execution_count": null,
      "outputs": []
    },
    {
      "cell_type": "markdown",
      "metadata": {
        "id": "WC4u0pB39Lpu"
      },
      "source": [
        "Python lists use 0 as the index of the first element of a list. Thus, in this example, the 0 element is \"Sunday\", 1 is \"Monday\", and so on. If you need to access the nth element from the end of the list, you can use a negative index. For example, the -1 element of a list is the last element:"
      ]
    },
    {
      "cell_type": "code",
      "metadata": {
        "id": "NQ3fsxd79UdB"
      },
      "source": [
        "days_of_the_week[-1]"
      ],
      "execution_count": null,
      "outputs": []
    },
    {
      "cell_type": "code",
      "metadata": {
        "id": "ZASHmkLy9VMv"
      },
      "source": [
        "days_of_the_week[6]"
      ],
      "execution_count": null,
      "outputs": []
    },
    {
      "cell_type": "markdown",
      "metadata": {
        "id": "68jF1DdUSKMf"
      },
      "source": [
        "If we want the list containing the first two elements of a list, we can do this via"
      ]
    },
    {
      "cell_type": "code",
      "metadata": {
        "id": "mamarnZVSJzX"
      },
      "source": [
        "days_of_the_week[0:2]"
      ],
      "execution_count": null,
      "outputs": []
    },
    {
      "cell_type": "markdown",
      "metadata": {
        "id": "UnQ6FyXwSVlk"
      },
      "source": [
        "If we want the last items of the list, we can do this with negative slicing:"
      ]
    },
    {
      "cell_type": "code",
      "metadata": {
        "id": "FzVMNf1vSWkP"
      },
      "source": [
        "days_of_the_week[-2:]"
      ],
      "execution_count": null,
      "outputs": []
    },
    {
      "cell_type": "markdown",
      "metadata": {
        "id": "sg3IyD9N94o4"
      },
      "source": [
        "You can add additional items to the list using the `.append()` command. A list can have repeated values."
      ]
    },
    {
      "cell_type": "code",
      "metadata": {
        "id": "PL7hX3EI9wVU"
      },
      "source": [
        "days_of_the_week.append(\"Sunday\")\n",
        "print(days_of_the_week)"
      ],
      "execution_count": null,
      "outputs": []
    },
    {
      "cell_type": "markdown",
      "metadata": {
        "id": "scVj1GcE-enA"
      },
      "source": [
        "Lists can hold different data types, including other lists:"
      ]
    },
    {
      "cell_type": "code",
      "metadata": {
        "id": "6RLwSMYF-lae"
      },
      "source": [
        "a_list = [\"Python\", 2021, 1/2, '', days_of_the_week]\n",
        "print(a_list)"
      ],
      "execution_count": null,
      "outputs": []
    },
    {
      "cell_type": "markdown",
      "metadata": {
        "id": "4RHE-6RQ_POI"
      },
      "source": [
        "You can find out how long a list is using the `len()`command:"
      ]
    },
    {
      "cell_type": "code",
      "metadata": {
        "id": "b9rDtW96_fq1"
      },
      "source": [
        "len(a_list)"
      ],
      "execution_count": null,
      "outputs": []
    },
    {
      "cell_type": "markdown",
      "metadata": {
        "id": "GAAfS0MWAzwU"
      },
      "source": [
        "### Loops\n",
        "One of the most useful things you can do with lists is to iterate through them, i.e. to go through each element one at a time. To do this in Python, we use the for statement:"
      ]
    },
    {
      "cell_type": "code",
      "metadata": {
        "id": "OiqJ0YbuAqsJ"
      },
      "source": [
        "for day in days_of_the_week:\n",
        "    print(day)"
      ],
      "execution_count": null,
      "outputs": []
    },
    {
      "cell_type": "markdown",
      "metadata": {
        "id": "Y42debTgBR-S"
      },
      "source": [
        "This code snippet goes through each element of the list called days_of_the_week and assigns it to the variable **day**. It then executes everything in the indented block (in this case only one line of code, the print statement) using those variable assignments.\n",
        "\n",
        "Python uses a colon (\":\"), followed by indentation level to define code blocks. Everything at a higher level of indentation is taken to be in the same block. In the above example the block was only a single line, but we could have had longer blocks as well:"
      ]
    },
    {
      "cell_type": "code",
      "metadata": {
        "id": "dsqRWhs3Ayie"
      },
      "source": [
        "for day in days_of_the_week:\n",
        "    statement = \"Today is \" + day\n",
        "    print(statement)"
      ],
      "execution_count": null,
      "outputs": []
    },
    {
      "cell_type": "markdown",
      "metadata": {
        "id": "8XHEx-y9CuaF"
      },
      "source": [
        "The `range()` command is particularly useful with the **for** statement to execute loops of a specified length. The `range()` statement creates a list from 0 to a desired number."
      ]
    },
    {
      "cell_type": "code",
      "metadata": {
        "id": "Djz-hujHDuBD"
      },
      "source": [
        "list(range(10))"
      ],
      "execution_count": null,
      "outputs": []
    },
    {
      "cell_type": "markdown",
      "metadata": {
        "id": "10iItwO7Ehsa"
      },
      "source": [
        "Let's compute the square of the numbers 0 to 20."
      ]
    },
    {
      "cell_type": "code",
      "metadata": {
        "id": "mAWotSJ9DAD4"
      },
      "source": [
        "for i in range(20):\n",
        "    print(\"The square of \",i,\" is \",i*i)"
      ],
      "execution_count": null,
      "outputs": []
    },
    {
      "cell_type": "markdown",
      "metadata": {
        "id": "rZ4YpyjSFNpS"
      },
      "source": [
        "🔴 #2\n",
        "#### Your turn!  \n",
        "compute the **square root** of the numbers 10 to 20."
      ]
    },
    {
      "cell_type": "code",
      "metadata": {
        "id": "248LDrLoFbbe"
      },
      "source": [
        ""
      ],
      "execution_count": null,
      "outputs": []
    },
    {
      "cell_type": "markdown",
      "metadata": {
        "id": "VzHh7-ziTE-G"
      },
      "source": [
        "### Booleans and Truth Testing  \n",
        "\n",
        "Other data type is the boolean, which refer to a variable being `True` or `False`.  \n",
        "\n",
        "There is also conditions statements to control branching behavior. They allow a program to react differently to different situations."
      ]
    },
    {
      "cell_type": "code",
      "metadata": {
        "id": "3cJvzz6kTwE6"
      },
      "source": [
        "day = days_of_the_week[0]\n",
        "\n",
        "if day == \"Sunday\":\n",
        "    print(\"Sleep in\")\n",
        "else:\n",
        "    print(\"Go to work\")"
      ],
      "execution_count": null,
      "outputs": []
    },
    {
      "cell_type": "markdown",
      "metadata": {
        "id": "1RCQqJHpUL-j"
      },
      "source": [
        "The \"==\" operator performs equality testing. If the two items are equal, it returns True, otherwise it returns False. \n",
        "\n",
        "The **if** statement that contains the truth test is followed by a code block (a colon followed by an indented block of code). If the boolean is true, it executes the code in that block. Since it is false in the above example, we don't see that code executed.\n",
        "\n",
        "The first block of code is followed by an **else** statement, which is executed if nothing else in the above if statement is true. Since the value was false, this code is executed, which is why we see \"Go to work\".\n",
        "\n",
        "Other operators are:  \n",
        "* **!=** not equal\n",
        "* **<** less than\n",
        "* **>** more than\n",
        "\n",
        "If statements can have elif parts (\"else if\"), in addition to if/else parts. For example:"
      ]
    },
    {
      "cell_type": "code",
      "metadata": {
        "id": "Uivsd0xKUqpM"
      },
      "source": [
        "day = days_of_the_week[5]\n",
        "\n",
        "if day == \"Sunday\":\n",
        "    print(\"Sleep in\")\n",
        "elif day == \"Saturday\":\n",
        "    print(\"Do chores\")\n",
        "else:\n",
        "    print(\"Go to work\")"
      ],
      "execution_count": null,
      "outputs": []
    },
    {
      "cell_type": "markdown",
      "metadata": {
        "id": "9EKuRR8Z84ns"
      },
      "source": [
        "\n",
        "\n",
        "---\n",
        "\n"
      ]
    },
    {
      "cell_type": "markdown",
      "metadata": {
        "id": "DO4b_fQ1X8rS"
      },
      "source": [
        "![Picture2.png](data:image/png;base64,iVBORw0KGgoAAAANSUhEUgAABIMAAABpCAMAAACeRRMyAAAAAXNSR0IArs4c6QAAAARnQU1BAACxjwv8YQUAAAAGUExURf/RZgAAAOt77DUAAAACdFJOU/8A5bcwSgAAAAlwSFlzAAAXEQAAFxEByibzPwAAAI1JREFUeF7twTEBAAAAwqD1T20MHyAAAAAAAAAAAAAAAAAAAAAAAAAAAAAAAAAAAAAAAAAAAAAAAAAAAAAAAAAAAAAAAAAAAAAAAAAAAAAAAAAAAAAAAAAAAAAAAAAAAAAAAAAAAAAAAAAAAAAAAAAAAAAAAAAAAAAAAAAAAAAAAAAAAAAAAAAAAAC4qAHaMwABy+5C8gAAAABJRU5ErkJggg==)"
      ]
    },
    {
      "cell_type": "markdown",
      "metadata": {
        "id": "Z9PmzKTQcYjW"
      },
      "source": [
        "## Part 2. Working with tabular data  "
      ]
    },
    {
      "cell_type": "markdown",
      "metadata": {
        "id": "0NLjUEf9_e8l"
      },
      "source": [
        "In this part, we will learn to use tabular data similar to the one we use with Excel. \n",
        "\n",
        "The dataset used for practice is the body measures dataset from the U.S. National Health and Nutrition Examination (NHANES) Survey 2009–2010. \n",
        "\n",
        "The dataset contains the body measures of 4979 individuals, including the age (in months), weight (kg), height, upper leg length, upper arm length, arm circumference, and waist (cm). Raw 'official' data is available [here](https://www.statcrunch.com/app/index.php?dataid=1406047).  \n",
        "\n",
        "🔴 **[For this tutorial please download the data from here.](https://drive.google.com/file/d/1o63fJQt8R6cakYXXxkhBXD7tJYpSu528/view?usp=sharing)**\n",
        "\n",
        "*Note*: Details of NHANES data acquisition method, [here](cdc.gov/nchs/data/nhanes/nhanes_07_08/manual_an.pdf ).\n",
        "\n",
        "For working with tabular data, we use the library [pandas](https://pandas.pydata.org/)"
      ]
    },
    {
      "cell_type": "code",
      "metadata": {
        "id": "b-S0SX5XS2m4"
      },
      "source": [
        "import pandas as pd"
      ],
      "execution_count": null,
      "outputs": []
    },
    {
      "cell_type": "markdown",
      "metadata": {
        "id": "gfiQoyUjS4sV"
      },
      "source": [
        "### Load Data\n",
        "\n",
        "To use our files in a colaboratory notebook like this, we first need to upload the files to the session, as follows:\n",
        "\n",
        "1. Click on the `folder` icon on the left. This will open the `Files` pane.\n",
        "2. In the `Files` pane, click on the `Upload to session storage` icon.\n",
        "3. And, select the files in your PC.\n",
        "\n",
        "*Note*: You may need to upload the files again if you close the notebook or the broswer.  \n",
        "\n",
        "\n",
        "![Picture4b.png](data:image/png;base64,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)"
      ]
    },
    {
      "cell_type": "markdown",
      "metadata": {
        "id": "OMqvGb9NTOZs"
      },
      "source": [
        "#### Load an Excel file"
      ]
    },
    {
      "cell_type": "code",
      "metadata": {
        "id": "a2er2X40S4_q"
      },
      "source": [
        "dataset = pd.read_excel('nhanes.xls', sheetname='Sheet 1', header=None)\n",
        "dataset.head()"
      ],
      "execution_count": null,
      "outputs": []
    },
    {
      "cell_type": "markdown",
      "metadata": {
        "id": "30uk59v6S5TU"
      },
      "source": [
        "#### Load .CSV file"
      ]
    },
    {
      "cell_type": "code",
      "metadata": {
        "id": "rBtQmfm6X5Jv"
      },
      "source": [
        "dataset = pd.read_csv(\"nhanes.csv\")\n",
        "#dataset = pd.read_table(\"nhanes.csv\", sep=',')\n",
        "dataset.head()"
      ],
      "execution_count": null,
      "outputs": []
    },
    {
      "cell_type": "markdown",
      "metadata": {
        "id": "2iDZGLSu_Rm8"
      },
      "source": [
        "🔴 #3 \n",
        "\n",
        "#### Your turn!\n",
        "Upload the provided data file.  \n",
        "Is it Excel or .CSV?  \n",
        "Then, load it using the right function."
      ]
    },
    {
      "cell_type": "code",
      "metadata": {
        "id": "bXmBFEG0_p2-"
      },
      "source": [
        ""
      ],
      "execution_count": null,
      "outputs": []
    },
    {
      "cell_type": "markdown",
      "metadata": {
        "id": "jIvrlp1mTJWf"
      },
      "source": [
        "#### Load file from URL"
      ]
    },
    {
      "cell_type": "code",
      "metadata": {
        "id": "Dv63gXweS5r4"
      },
      "source": [
        "dataset = pd.read_csv(\"https://raw.githubusercontent.com/cristianmejia00/kajikawa_lab/master/Python-2021/nhanes.csv\")\n",
        "dataset.head()"
      ],
      "execution_count": null,
      "outputs": []
    },
    {
      "cell_type": "markdown",
      "metadata": {
        "id": "simZ1dhXTaXy"
      },
      "source": [
        "### Inspect the data"
      ]
    },
    {
      "cell_type": "code",
      "metadata": {
        "id": "XxkCF6QyUQWA"
      },
      "source": [
        "# Number of rows and number of columns\n",
        "dataset.shape"
      ],
      "execution_count": null,
      "outputs": []
    },
    {
      "cell_type": "code",
      "metadata": {
        "id": "d2OEKqG7VcRr"
      },
      "source": [
        "# Check summary of each column\n",
        "dataset.describe()"
      ],
      "execution_count": null,
      "outputs": []
    },
    {
      "cell_type": "code",
      "metadata": {
        "id": "eSMx-606htr4"
      },
      "source": [
        "# Remove rows\n",
        "edited_dataset = dataset.drop([0, 1])\n",
        "edited_dataset.head()"
      ],
      "execution_count": null,
      "outputs": []
    },
    {
      "cell_type": "code",
      "metadata": {
        "id": "rdvZMvjyUb8U"
      },
      "source": [
        "# Remove columns\n",
        "edited_dataset = dataset.drop(['Gender','Age_months'], axis=1)\n",
        "edited_dataset.head()"
      ],
      "execution_count": null,
      "outputs": []
    },
    {
      "cell_type": "code",
      "metadata": {
        "id": "TbdKtbEpVUiA"
      },
      "source": [
        "# Add rows\n",
        "dataset.loc[4980] = [\"Female\", 499, 20, 69.9, 199, 39.9, 39.9, 39.9, 99.9]\n",
        "dataset.tail()"
      ],
      "execution_count": null,
      "outputs": []
    },
    {
      "cell_type": "markdown",
      "metadata": {
        "id": "TGCSs031N36S"
      },
      "source": [
        "🔴 #4 \n",
        "\n",
        "#### Your turn!\n",
        "Delete the row we just added above."
      ]
    },
    {
      "cell_type": "code",
      "metadata": {
        "id": "BcFzy8b7N2T2"
      },
      "source": [
        ""
      ],
      "execution_count": null,
      "outputs": []
    },
    {
      "cell_type": "code",
      "metadata": {
        "id": "er0BEpYcVWQt"
      },
      "source": [
        "# Add columns\n",
        "dataset[\"Age_years\"] = dataset[\"Age_months\"] / 12\n",
        "dataset.head(15)\n",
        "\n",
        "# We can add a columns at specific locations with `.insert()`\n",
        "#dataset.insert(2, \"Age_years\", dataset[\"Age_months\"] / 12)\n",
        "#dataset.head(15)"
      ],
      "execution_count": null,
      "outputs": []
    },
    {
      "cell_type": "code",
      "metadata": {
        "id": "muKJ9M2YVZ7p"
      },
      "source": [
        "# Order rows\n",
        "dataset.sort_values(by = 'Weight_kg', ascending= True)"
      ],
      "execution_count": null,
      "outputs": []
    },
    {
      "cell_type": "code",
      "metadata": {
        "id": "NX5X8WvWy8ki"
      },
      "source": [
        "# When sorting by string columns, they are sorted alphabetically.\n",
        "dataset.sort_values(by = \"Gender\")"
      ],
      "execution_count": null,
      "outputs": []
    },
    {
      "cell_type": "code",
      "metadata": {
        "id": "aZVq3_kdU81q"
      },
      "source": [
        "# Filter based on condition\n",
        "dataset_over50 = dataset[dataset[\"Age_years\"] > 50]\n",
        "dataset_over50.head()"
      ],
      "execution_count": null,
      "outputs": []
    },
    {
      "cell_type": "code",
      "metadata": {
        "id": "pcSy91AEVuqo"
      },
      "source": [
        "import numpy as np\n",
        "\n",
        "# Pivot table\n",
        "table = dataset.pivot_table(values=\"Age_years\", index=\"Gender\", aggfunc=np.mean)\n",
        "table"
      ],
      "execution_count": null,
      "outputs": []
    },
    {
      "cell_type": "code",
      "metadata": {
        "id": "Lb3hpq204ltH"
      },
      "source": [
        "# Pivot table\n",
        "table = dataset.pivot_table(values=\"Age_years\", index=\"Gender\", columns=\"Age_range\", aggfunc=np.mean)\n",
        "table"
      ],
      "execution_count": null,
      "outputs": []
    },
    {
      "cell_type": "code",
      "metadata": {
        "id": "zEKBzn5SbdAr"
      },
      "source": [
        "# Export files\n",
        "dataset_over50.to_csv(\"over50.csv\")"
      ],
      "execution_count": null,
      "outputs": []
    },
    {
      "cell_type": "markdown",
      "metadata": {
        "id": "FVd5py2oP2Y7"
      },
      "source": [
        "🔴 #5 \n",
        "\n",
        "#### Your turn!\n",
        "\n",
        "Download the following file to your computer: [Tokyo Land Sample Data](https://drive.google.com/file/d/1Vyvb3rQhBTq5H7rD8QHu9QuzdaVqJEet/view?usp=sharing)\n",
        "\n",
        "This file contains a sample of Tokyo land and house prices. "
      ]
    },
    {
      "cell_type": "code",
      "metadata": {
        "id": "R7V7_hBnQfyo"
      },
      "source": [
        "# Load the file.\n",
        "tokyo_land = "
      ],
      "execution_count": null,
      "outputs": []
    },
    {
      "cell_type": "code",
      "metadata": {
        "id": "WZ17JK_vQn67"
      },
      "source": [
        "# How many rows and columns are in the file\n"
      ],
      "execution_count": null,
      "outputs": []
    },
    {
      "cell_type": "code",
      "metadata": {
        "id": "m3b8b1k3Qvc4"
      },
      "source": [
        "# There is a column named TradePriceMan, which tells you the price of the proerty in 万円. \n",
        "# How much is the most expensive property? Hoe much is the average?\n"
      ],
      "execution_count": null,
      "outputs": []
    },
    {
      "cell_type": "code",
      "metadata": {
        "id": "tTT_i3NkRPJ8"
      },
      "source": [
        "# Find the properties near Meguro station.\n"
      ],
      "execution_count": null,
      "outputs": []
    },
    {
      "cell_type": "code",
      "metadata": {
        "id": "0H5v8fYBS1yw"
      },
      "source": [
        "# Save the file containing the properties near Meguro station\n"
      ],
      "execution_count": null,
      "outputs": []
    },
    {
      "cell_type": "markdown",
      "metadata": {
        "id": "l_1NS0XL84YA"
      },
      "source": [
        "---"
      ]
    },
    {
      "cell_type": "markdown",
      "metadata": {
        "id": "qJRWtEGcZDR0"
      },
      "source": [
        "![Picture3.png](data:image/png;base64,iVBORw0KGgoAAAANSUhEUgAABIMAAABqCAMAAAAY0WGcAAAAAXNSR0IArs4c6QAAAARnQU1BAACxjwv8YQUAAAAGUExURQbWoAAAADjgyS4AAAACdFJOU/8A5bcwSgAAAAlwSFlzAAAXEQAAFxEByibzPwAAAI1JREFUeF7twQEBAAAAgiD/r25IQAAAAAAAAAAAAAAAAAAAAAAAAAAAAAAAAAAAAAAAAAAAAAAAAAAAAAAAAAAAAAAAAAAAAAAAAAAAAAAAAAAAAAAAAAAAAAAAAAAAAAAAAAAAAAAAAAAAAAAAAAAAAAAAAAAAAAAAAAAAAAAAAAAAAAAAAAAAAABwpwbetwAB5xmsMAAAAABJRU5ErkJggg==)"
      ]
    },
    {
      "cell_type": "markdown",
      "metadata": {
        "id": "Atp4NrYIcd19"
      },
      "source": [
        "## Part 3. Data visualization  \n",
        "\n",
        "The most popular library for data visualization in Python is [matplotlib](https://matplotlib.org/). However, in this tutorial we are using [seaborn](https://seaborn.pydata.org/#:~:text=Seaborn%20is%20a%20Python%20data,attractive%20and%20informative%20statistical%20graphics.) which is based on matplotlib, but easier to use and produce nicer charts out of the box. \n"
      ]
    },
    {
      "cell_type": "code",
      "metadata": {
        "id": "C0guFrj7cPmV"
      },
      "source": [
        "import numpy as np\n",
        "import pandas as pd\n",
        "import matplotlib.pyplot as plt\n",
        "import seaborn as sns"
      ],
      "execution_count": null,
      "outputs": []
    },
    {
      "cell_type": "code",
      "metadata": {
        "id": "0WWAaSuEhDJW"
      },
      "source": [
        "# We will use a random sample intead of the full data in order to save time.\n",
        "# dataset = pd.read_csv(\"nhanes.csv\")\n",
        "dataset = dataset.sample(100)\n",
        "dataset.shape"
      ],
      "execution_count": null,
      "outputs": []
    },
    {
      "cell_type": "markdown",
      "metadata": {
        "id": "ur6cejrxhGw4"
      },
      "source": [
        "### Histograms\n",
        "\n",
        "Provides a way to look at a univariate distribution. A univeriate distribution provides a distribution for one variable.\n",
        "\n",
        "Bins define how many buckets to divide the data up into between intervals.  \n",
        "\n",
        "The plot also shows the Kernal Density Estimation (i.e. a line fitting the histogram). It can be removed with `kde=False`. \n"
      ]
    },
    {
      "cell_type": "code",
      "metadata": {
        "id": "_YMwwgkPiBCj"
      },
      "source": [
        "sns.displot(dataset['Waist_cm'], kde=True, bins=25)"
      ],
      "execution_count": null,
      "outputs": []
    },
    {
      "cell_type": "markdown",
      "metadata": {
        "id": "bl2-tl6UjqS5"
      },
      "source": [
        "### KDE plots\n",
        "\n",
        "On the other hand, we can plot only the fitted line intead of the histogram."
      ]
    },
    {
      "cell_type": "code",
      "metadata": {
        "id": "p0jVDQcMjuYE"
      },
      "source": [
        "sns.kdeplot(dataset['Waist_cm'])"
      ],
      "execution_count": null,
      "outputs": []
    },
    {
      "cell_type": "markdown",
      "metadata": {
        "id": "p9lF91JLibmN"
      },
      "source": [
        "### Scatter plots\n",
        "\n",
        "A scatter plot compares 2 distributions. \n",
        "\n",
        "\n",
        "\n"
      ]
    },
    {
      "cell_type": "code",
      "metadata": {
        "id": "FNgsYzZIHE05"
      },
      "source": [
        "sns.scatterplot(x='Weight_kg', y='Height_cm', data=dataset)"
      ],
      "execution_count": null,
      "outputs": []
    },
    {
      "cell_type": "markdown",
      "metadata": {
        "id": "poDC_TScHFHV"
      },
      "source": [
        "`.scatterplot` is good for simple plotting. But you can visualize more information by using `.jointplot()` instead. \n",
        "\n",
        "* You can create a regression line with `kind='reg'`\n",
        "* You can create a 2D KDE with `kind='kde'`\n",
        "* You can create a hexagon distribution with `kind='hex'`\n",
        "\n",
        "Check the documentation for more options:  \n",
        "* [`.scatterplot()` documentation](https://seaborn.pydata.org/generated/seaborn.scatterplot.html?highlight=scatterplot#seaborn.scatterplot)\n",
        "* [`.jointplot()` documentation](https://seaborn.pydata.org/generated/seaborn.jointplot.html#seaborn.jointplot)"
      ]
    },
    {
      "cell_type": "code",
      "metadata": {
        "id": "xPOfiTADjDQO"
      },
      "source": [
        "sns.jointplot(x='Weight_kg', y='Height_cm', data=dataset[dataset[\"Age_years\"] > 50], kind='reg')"
      ],
      "execution_count": null,
      "outputs": []
    },
    {
      "cell_type": "markdown",
      "metadata": {
        "id": "iJf5rCzujAIa"
      },
      "source": [
        "From the figure above, we can see that people tend to speed as they also tend to drink & drive."
      ]
    },
    {
      "cell_type": "markdown",
      "metadata": {
        "id": "8meXb54-UhB1"
      },
      "source": [
        "🔴 #6 \n",
        "\n",
        "#### Your turn!\n",
        "Plot the relationship between `Arm_circum_cm`\tand `Waist_cm`. (Use eaither scatterplot() or jointplot())  \n"
      ]
    },
    {
      "cell_type": "code",
      "metadata": {
        "id": "L601LTa2VO-Q"
      },
      "source": [
        ""
      ],
      "execution_count": null,
      "outputs": []
    },
    {
      "cell_type": "markdown",
      "metadata": {
        "id": "2t-KRzb4kEt2"
      },
      "source": [
        "### Pair plots\n",
        "\n",
        "Pair Plot plots relationships across the entire data frames **numerical** values.\n",
        "\n",
        "[`.pairplots()` documentation](https://seaborn.pydata.org/generated/seaborn.pairplot.html)"
      ]
    },
    {
      "cell_type": "code",
      "metadata": {
        "id": "FlxzqYGCkMEv"
      },
      "source": [
        "#sns.pairplot(dataset)\n",
        "sns.pairplot(dataset.iloc[:,4:], corner=True)\n"
      ],
      "execution_count": null,
      "outputs": []
    },
    {
      "cell_type": "markdown",
      "metadata": {
        "id": "ch2bJoVxWLU6"
      },
      "source": [
        "We can check the correlations with:"
      ]
    },
    {
      "cell_type": "code",
      "metadata": {
        "id": "dsSiIG5HWK1L"
      },
      "source": [
        "dataset.corr()"
      ],
      "execution_count": null,
      "outputs": []
    },
    {
      "cell_type": "markdown",
      "metadata": {
        "id": "RmO24m2mk-XL"
      },
      "source": [
        "With `hue` you can pass in a categorical column and the charts will be colorized  \n",
        "You can use [color maps from Matplotlib](https://matplotlib.org/3.3.1/tutorials/colors/colormaps.html) to define what colors to use in the `palette`"
      ]
    },
    {
      "cell_type": "code",
      "metadata": {
        "id": "xkixADfdk7aJ"
      },
      "source": [
        "sns.pairplot(dataset, hue='Gender', palette='tab10', corner = True)"
      ],
      "execution_count": null,
      "outputs": []
    },
    {
      "cell_type": "markdown",
      "metadata": {
        "id": "OTgj3BL_mbQC"
      },
      "source": [
        "### Bar plots\n",
        "\n",
        "Focus on distributions using **categorical** data in reference to one of the numerical columns\n",
        "\n",
        "Aggregate categorical data based on a function (mean is the default)\n",
        "\n",
        "With `estimator` you can define functions to use other than the mean like those provided by **NumPy** : `median, std, var, cov` or make your own functions.\n",
        "\n",
        "Following we estimate the total bill amount based on sex."
      ]
    },
    {
      "cell_type": "code",
      "metadata": {
        "id": "gRWOW6A8ltM6"
      },
      "source": [
        "sns.barplot(x='Gender', y='Age_years', data=dataset, estimator=np.median)"
      ],
      "execution_count": null,
      "outputs": []
    },
    {
      "cell_type": "markdown",
      "metadata": {
        "id": "L2EzNFz_na1Q"
      },
      "source": [
        "A simplified function in seaborn created called `countplot()` generates bar plot just by counting the occurrences of the categorical variable.  "
      ]
    },
    {
      "cell_type": "code",
      "metadata": {
        "id": "mvIoi39invUu"
      },
      "source": [
        "sns.countplot(x='Gender', data=dataset)"
      ],
      "execution_count": null,
      "outputs": []
    },
    {
      "cell_type": "markdown",
      "metadata": {
        "id": "LvbhrfyeWvLa"
      },
      "source": [
        "🔴 #7 \n",
        "\n",
        "#### Your turn!  \n",
        "Plot the number of participants per each `Age_range`"
      ]
    },
    {
      "cell_type": "code",
      "metadata": {
        "id": "b3jgZi01XInm"
      },
      "source": [
        ""
      ],
      "execution_count": null,
      "outputs": []
    },
    {
      "cell_type": "code",
      "metadata": {
        "id": "GEnjk7ykXVLo"
      },
      "source": [
        "# (Optional, advanced) using the tokyo_land dataset, plot the number of properties in each Municipality\n"
      ],
      "execution_count": null,
      "outputs": []
    },
    {
      "cell_type": "code",
      "metadata": {
        "id": "g2JLgIfhauHK"
      },
      "source": [
        ""
      ],
      "execution_count": null,
      "outputs": []
    },
    {
      "cell_type": "code",
      "metadata": {
        "id": "hq5p2mSXd8sy"
      },
      "source": [
        ""
      ],
      "execution_count": null,
      "outputs": []
    },
    {
      "cell_type": "markdown",
      "metadata": {
        "id": "BCSlQTvToOM2"
      },
      "source": [
        "### Box plots\n",
        "A box plot allows you to compare different variables. The box shows the quartiles of the data. The bar in the middle is the median and the box extends 1 standard deviation from the median. The whiskers extend to all the other data aside from the points that are considered to be outliers.  \n",
        "\n",
        "\n",
        "`Hue` can add another category like sex\n",
        "\n"
      ]
    },
    {
      "cell_type": "code",
      "metadata": {
        "id": "FZF3P3c_oq7q"
      },
      "source": [
        "sns.boxplot(x='Age_range', y='Weight_kg', data=dataset, hue='Gender')"
      ],
      "execution_count": null,
      "outputs": []
    },
    {
      "cell_type": "markdown",
      "metadata": {
        "id": "pb-Qax6korJK"
      },
      "source": [
        "We see men spend way more on Friday versus less than women on Saturday"
      ]
    },
    {
      "cell_type": "markdown",
      "metadata": {
        "id": "38r-hZURtbD0"
      },
      "source": [
        "### Heatmaps\n",
        "\n",
        "To create a heatmap with data you must have data set up as a matrix where variables are on the columns and rows\n",
        "\n",
        "Correlation tells you how influential a variable is on the result So we see that n previous accident is heavily correlated with accidents, while the insurance premium is not."
      ]
    },
    {
      "cell_type": "code",
      "metadata": {
        "id": "iXVA2cRVt4u1"
      },
      "source": [
        "dataset_mx = dataset.corr()\n",
        "dataset_mx.head()"
      ],
      "execution_count": null,
      "outputs": []
    },
    {
      "cell_type": "code",
      "metadata": {
        "id": "v6C_k0aMt-HL"
      },
      "source": [
        "sns.heatmap(dataset_mx, annot=True, cmap='Blues')\n",
        "# Additional params\n",
        "# linecolor='white', linewidth=1"
      ],
      "execution_count": null,
      "outputs": []
    },
    {
      "cell_type": "markdown",
      "metadata": {
        "id": "DqpUUvQjCpg1"
      },
      "source": [
        "### Cluster map"
      ]
    },
    {
      "cell_type": "code",
      "metadata": {
        "id": "levP4nk-Cp48"
      },
      "source": [
        "sns.clustermap(dataset_mx, cmap=\"Blues\", standard_scale=1)"
      ],
      "execution_count": null,
      "outputs": []
    },
    {
      "cell_type": "markdown",
      "metadata": {
        "id": "9NpKCbLgvkkh"
      },
      "source": [
        "### Regression plots\n",
        " \n",
        " We can plot a regression plot studying whether total bill effects the tip hue is used to show separation based off of categorical data We see that males tend to tip slightly more Define different markers for men and women You can effect the scatter plot by passing in a dictionary for styling of markers"
      ]
    },
    {
      "cell_type": "code",
      "metadata": {
        "id": "e7Rih4Z7v5do"
      },
      "source": [
        "sns.lmplot(x='Weight_kg', y='Height_cm', hue='Gender', data=dataset, \n",
        "           markers=['o', '^'], \n",
        "           scatter_kws={'s': 100, 'linewidth': 0.5, 'edgecolor': 'w'})"
      ],
      "execution_count": null,
      "outputs": []
    },
    {
      "cell_type": "markdown",
      "metadata": {
        "id": "4Phr00G0x5j3"
      },
      "source": [
        "You can separate the data into separate columns for day data."
      ]
    },
    {
      "cell_type": "code",
      "metadata": {
        "id": "xhTjnzn-yCjP"
      },
      "source": [
        "sns.lmplot(x='Leg_Length_cm', y='Arm_Length_cm', data=dataset, col='Age_range', hue='Gender')"
      ],
      "execution_count": null,
      "outputs": []
    },
    {
      "cell_type": "markdown",
      "metadata": {
        "id": "4dX_uHJn9ajO"
      },
      "source": [
        "### Advanced grid controls (Optional)\n",
        "\n",
        "We may want to have more control when plotting comparison between multiple columns in our datasets. In those cases we use `.PairGrid()` function, where we customize the grid behavior.  \n",
        "\n",
        "In the following example we are going to use the **Iris** dataset. Which is a sample dataset containing information about length and width of petals of three species of Iris (a flower). "
      ]
    },
    {
      "cell_type": "code",
      "metadata": {
        "id": "MidBdQBB87MK"
      },
      "source": [
        "# Load the dataset\n",
        "iris = sns.load_dataset(\"iris\")\n",
        "iris.head()"
      ],
      "execution_count": null,
      "outputs": []
    },
    {
      "cell_type": "markdown",
      "metadata": {
        "id": "LESCdDFu-mzD"
      },
      "source": [
        "We are plotting a grid view similar to `.pairplot()`. However, this time we will have complete control over what is displayed.  \n",
        "\n",
        "First we create an empty `Grid` object using `.PairGrid()` and indicate we want to colorize the datapoints by `species` in the `hue` option.  We then choose to show everything as scatterplots with `.map()`.\n"
      ]
    },
    {
      "cell_type": "code",
      "metadata": {
        "id": "0MT1VbkF3InU"
      },
      "source": [
        "iris_g = sns.PairGrid(iris, hue=\"species\")\n",
        "iris_g.map(plt.scatter)\n",
        "\n",
        "# Add a legend\n",
        "iris_g.add_legend()"
      ],
      "execution_count": null,
      "outputs": []
    },
    {
      "cell_type": "markdown",
      "metadata": {
        "id": "6Mbf9qha_yUe"
      },
      "source": [
        "Following, instead of everything being an scatterplot, we visualize histograms over the diagonal, scatterplot in the upper sections, and KDE plots the bellow section of the grid."
      ]
    },
    {
      "cell_type": "code",
      "metadata": {
        "id": "IUXn5d3G3I2x"
      },
      "source": [
        "iris_g = sns.PairGrid(iris, hue=\"species\")\n",
        "iris_g.map_diag(plt.hist)\n",
        "iris_g.map_upper(plt.scatter)\n",
        "iris_g.map_lower(sns.kdeplot)\n",
        "\n",
        "# Add a legend\n",
        "iris_g.add_legend()\n"
      ],
      "execution_count": null,
      "outputs": []
    },
    {
      "cell_type": "markdown",
      "metadata": {
        "id": "ZtlihZsbAHfW"
      },
      "source": [
        "Finally, you can also define the variables for x & y for a custom grid."
      ]
    },
    {
      "cell_type": "code",
      "metadata": {
        "id": "nwnpzg1h3Jcz"
      },
      "source": [
        "iris_g = sns.PairGrid(iris, hue=\"species\",\n",
        "                      x_vars=[\"sepal_length\", \"sepal_width\"],\n",
        "                      y_vars=[\"petal_length\", \"petal_width\"])\n",
        "\n",
        "iris_g.map(plt.scatter)\n",
        "\n",
        "# Add a legend\n",
        "iris_g.add_legend()"
      ],
      "execution_count": null,
      "outputs": []
    },
    {
      "cell_type": "markdown",
      "metadata": {
        "id": "Fepu0AXfwNKl"
      },
      "source": [
        "---"
      ]
    },
    {
      "cell_type": "markdown",
      "metadata": {
        "id": "1HXGkq0xpbo_"
      },
      "source": [
        "### Styling\n",
        "\n",
        "We can change the style and other characteristics of the figures."
      ]
    },
    {
      "cell_type": "code",
      "metadata": {
        "id": "fNzIGh9YpQHz"
      },
      "source": [
        "plt.figure(figsize=(14,9))\n",
        "\n",
        "#try changing to: darkgrid, whitegrid, dark, white, ticks\n",
        "sns.set_style('darkgrid') \n",
        "\n",
        "# try changing to: paper, notebook, talk, poster\n",
        "sns.set_context('talk', font_scale=1.4)\n",
        "\n",
        "# Moves legend to the best position\n",
        "# Other options: https://matplotlib.org/stable/api/_as_gen/matplotlib.pyplot.legend.html\n",
        "plt.legend(loc=0)\n",
        "\n",
        "# Plot:\n",
        "sns.scatterplot(x='Weight_kg', y='Height_cm', data=dataset)"
      ],
      "execution_count": null,
      "outputs": []
    },
    {
      "cell_type": "markdown",
      "metadata": {
        "id": "eY15OrqYltbv"
      },
      "source": [
        "### Other plots  \n",
        "\n",
        "More plot types are available. Check the [full documentation](https://seaborn.pydata.org/examples/index.html).  "
      ]
    },
    {
      "cell_type": "markdown",
      "metadata": {
        "id": "1j92Yt-AV5MS"
      },
      "source": [
        "---"
      ]
    },
    {
      "cell_type": "markdown",
      "metadata": {
        "id": "EtQekWHZRYGf"
      },
      "source": [
        "![Picture5.png](data:image/png;base64,iVBORw0KGgoAAAANSUhEUgAABIMAAABqCAYAAAAvD5GuAAAAAXNSR0IArs4c6QAAAARnQU1BAACxjwv8YQUAAAAJcEhZcwAADsQAAA7EAZUrDhsAAALtSURBVHhe7dgxAcAgEMDALyarq+oqBxZc5G6Jhzzf++8BAAAAIGHdAgAAABBgBgEAAACEmEEAAAAAIWYQAAAAQIgZBAAAABBiBgEAAACEmEEAAAAAIWYQAAAAQIgZBAAAABBiBgEAAACEmEEAAAAAIWYQAAAAQIgZBAAAABBiBgEAAACEmEEAAAAAIWYQAAAAQIgZBAAAABBiBgEAAACEmEEAAAAAIWYQAAAAQIgZBAAAABBiBgEAAACEmEEAAAAAIWYQAAAAQIgZBAAAABBiBgEAAACEmEEAAAAAIWYQAAAAQIgZBAAAABBiBgEAAACEmEEAAAAAIWYQAAAAQIgZBAAAABBiBgEAAACEmEEAAAAAIWYQAAAAQIgZBAAAABBiBgEAAACEmEEAAAAAIWYQAAAAQIgZBAAAABBiBgEAAACEmEEAAAAAIWYQAAAAQIgZBAAAABBiBgEAAACEmEEAAAAAIWYQAAAAQIgZBAAAABBiBgEAAACEmEEAAAAAIWYQAAAAQIgZBAAAABBiBgEAAACEmEEAAAAAIWYQAAAAQIgZBAAAABBiBgEAAACEmEEAAAAAIWYQAAAAQIgZBAAAABBiBgEAAACEmEEAAAAAIWYQAAAAQIgZBAAAABBiBgEAAACEmEEAAAAAIWYQAAAAQIgZBAAAABBiBgEAAACEmEEAAAAAIWYQAAAAQIgZBAAAABBiBgEAAACEmEEAAAAAIWYQAAAAQIgZBAAAABBiBgEAAACEmEEAAAAAIWYQAAAAQIgZBAAAABBiBgEAAACEmEEAAAAAIWYQAAAAQIgZBAAAABBiBgEAAACEmEEAAAAAIWYQAAAAQIgZBAAAABBiBgEAAACEmEEAAAAAIWYQAAAAQIgZBAAAABBiBgEAAACEmEEAAAAAIWYQAAAAQIgZBAAAABBiBgEAAACEmEEAAAAAIWYQAAAAQIgZBAAAABBiBgEAAACEmEEAAAAAIWYQAAAAQIgZBAAAAJAxcwDxQwOScq1jlAAAAABJRU5ErkJggg==)"
      ]
    },
    {
      "cell_type": "markdown",
      "metadata": {
        "id": "CMEEWqqvCbRl"
      },
      "source": [
        "## Part 4. Statistical testing\n",
        "\n"
      ]
    },
    {
      "cell_type": "markdown",
      "metadata": {
        "id": "DvTaWaV0EB0P"
      },
      "source": [
        "### Correlation tests\n",
        "\n",
        "This type of tests help to understand when a pair of variables have a [linear or monotonic](https://support.minitab.com/en-us/minitab-express/1/help-and-how-to/modeling-statistics/regression/supporting-topics/basics/linear-nonlinear-and-monotonic-relationships/#:~:text=In%20a%20monotonic%20relationship%2C%20the,direction%20at%20a%20constant%20rate.&text=For%20example%2C%20the%20relationship%20shown,is%20both%20monotonic%20and%20linear.) relationship. "
      ]
    },
    {
      "cell_type": "markdown",
      "metadata": {
        "id": "snoajpGzEVdM"
      },
      "source": [
        "#### Pearson’s Correlation Coefficient\n",
        "\n",
        "Tests whether two samples have a linear relationship.\n",
        "\n",
        "Assumptions\n",
        "\n",
        "* Observations in each sample are independent and identically distributed (iid).\n",
        "* Observations in each sample are normally distributed.\n",
        "* Observations in each sample have the same variance.  \n",
        "\n",
        "Interpretation\n",
        "\n",
        "* H0: the two samples are independent.\n",
        "* H1: there is a dependency between the samples."
      ]
    },
    {
      "cell_type": "code",
      "metadata": {
        "id": "dj2QLcEOEwhs"
      },
      "source": [
        "from scipy.stats import pearsonr\n",
        "data1 = [0.873, 2.817, 0.121, -0.945, -0.055, -1.436, 0.360, -1.478, -1.637, -1.869]\n",
        "data2 = [0.353, 3.517, 0.125, -7.545, -0.555, -1.536, 3.350, -1.578, -3.537, -1.579]\n",
        "stat, p = pearsonr(data1, data2)\n",
        "print('stat=%.3f, p=%.3f' % (stat, p))\n",
        "if p > 0.05:\n",
        "\tprint('Probably independent')\n",
        "else:\n",
        "\tprint('Probably dependent')"
      ],
      "execution_count": null,
      "outputs": []
    },
    {
      "cell_type": "markdown",
      "metadata": {
        "id": "ZSqyAN-Gf7Qq"
      },
      "source": [
        "🔴 #8 \n",
        "\n",
        "#### Your turn!  \n",
        "What is the correlation between `Arm_circum_cm` and `Weight_kg`?"
      ]
    },
    {
      "cell_type": "code",
      "metadata": {
        "id": "2jUlTXD6gVLG"
      },
      "source": [
        ""
      ],
      "execution_count": null,
      "outputs": []
    },
    {
      "cell_type": "markdown",
      "metadata": {
        "id": "fnLmv-f5IqTn"
      },
      "source": [
        "#### Spearman’s Rank Correlation\n",
        "\n",
        "Tests whether two samples have a monotonic relationship.\n",
        "\n",
        "Assumptions\n",
        "\n",
        "* Observations in each sample are independent and identically distributed (iid).\n",
        "* Observations in each sample can be ranked.  \n",
        "\n",
        "Interpretation\n",
        "\n",
        "* H0: the two samples are independent.\n",
        "* H1: there is a dependency between the samples."
      ]
    },
    {
      "cell_type": "code",
      "metadata": {
        "id": "D2WMN0b4Ixuu"
      },
      "source": [
        "from scipy.stats import spearmanr\n",
        "data1 = [0.873, 2.817, 0.121, -0.945, -0.055, -1.436, 0.360, -1.478, -1.637, -1.869]\n",
        "data2 = [0.353, 3.517, 0.125, -7.545, -0.555, -1.536, 3.350, -1.578, -3.537, -1.579]\n",
        "stat, p = spearmanr(data1, data2)\n",
        "print('stat=%.3f, p=%.3f' % (stat, p))\n",
        "if p > 0.05:\n",
        "\tprint('Probably independent')\n",
        "else:\n",
        "\tprint('Probably dependent')"
      ],
      "execution_count": null,
      "outputs": []
    },
    {
      "cell_type": "markdown",
      "metadata": {
        "id": "wAKoCH23EXd6"
      },
      "source": [
        "#### Chi-Squared Test\n",
        "\n",
        "Tests whether two categorical variables are related or independent.\n",
        "\n",
        "Assumptions\n",
        "\n",
        "* Observations used in the calculation of the contingency table are independent.\n",
        "* 25 or more examples in each cell of the contingency table.  \n",
        "\n",
        "Interpretation\n",
        "\n",
        "* H0: the two samples are independent.\n",
        "* H1: there is a dependency between the samples."
      ]
    },
    {
      "cell_type": "code",
      "metadata": {
        "id": "dlf29HuwExAA"
      },
      "source": [
        "from scipy.stats import chi2_contingency\n",
        "table = [[10, 20, 30],[6,  9,  17]]\n",
        "stat, p, dof, expected = chi2_contingency(table)\n",
        "print('stat=%.3f, p=%.3f' % (stat, p))\n",
        "if p > 0.05:\n",
        "\tprint('Probably independent')\n",
        "else:\n",
        "\tprint('Probably dependent')"
      ],
      "execution_count": null,
      "outputs": []
    },
    {
      "cell_type": "markdown",
      "metadata": {
        "id": "4ecucCAqG51U"
      },
      "source": [
        "### Parametric tests"
      ]
    },
    {
      "cell_type": "markdown",
      "metadata": {
        "id": "W5sA_kC_EHWg"
      },
      "source": [
        "#### Student’s t-test\n",
        "\n",
        "Tests whether the means of two independent samples are significantly different.\n",
        "\n",
        "Assumptions\n",
        "\n",
        "* Observations in each sample are independent and identically distributed (iid).\n",
        "* Observations in each sample are normally distributed.\n",
        "* Observations in each sample have the same variance.  \n",
        "\n",
        "Interpretation\n",
        "\n",
        "* H0: the means of the samples are equal.\n",
        "* H1: the means of the samples are unequal."
      ]
    },
    {
      "cell_type": "code",
      "metadata": {
        "id": "1-TZhJvmGyvK"
      },
      "source": [
        "from scipy.stats import ttest_ind\n",
        "data1 = [0.873, 2.817, 0.121, -0.945, -0.055, -1.436, 0.360, -1.478, -1.637, -1.869]\n",
        "data2 = [1.142, -0.432, -0.938, -0.729, -0.846, -0.157, 0.500, 1.183, -1.075, -0.169]\n",
        "stat, p = ttest_ind(data1, data2)\n",
        "print('stat=%.3f, p=%.3f' % (stat, p))\n",
        "if p > 0.05:\n",
        "\tprint('Probably the same distribution')\n",
        "else:\n",
        "\tprint('Probably different distributions')"
      ],
      "execution_count": null,
      "outputs": []
    },
    {
      "cell_type": "markdown",
      "metadata": {
        "id": "dWqIRPrWH9H9"
      },
      "source": [
        "#### Paired Student’s t-test\n",
        "\n",
        "Tests whether the means of two paired samples are significantly different.\n",
        "\n",
        "Assumptions\n",
        "\n",
        "* Observations in each sample are independent and identically distributed (iid).\n",
        "* Observations in each sample are normally distributed.\n",
        "* Observations in each sample have the same variance.\n",
        "* Observations across each sample are paired.  \n",
        "\n",
        "Interpretation\n",
        "\n",
        "* H0: the means of the samples are equal.\n",
        "* H1: the means of the samples are unequal."
      ]
    },
    {
      "cell_type": "code",
      "metadata": {
        "id": "A4mnd1KmIKro"
      },
      "source": [
        "from scipy.stats import ttest_rel\n",
        "data1 = [0.873, 2.817, 0.121, -0.945, -0.055, -1.436, 0.360, -1.478, -1.637, -1.869]\n",
        "data2 = [1.142, -0.432, -0.938, -0.729, -0.846, -0.157, 0.500, 1.183, -1.075, -0.169]\n",
        "stat, p = ttest_rel(data1, data2)\n",
        "print('stat=%.3f, p=%.3f' % (stat, p))\n",
        "if p > 0.05:\n",
        "\tprint('Probably the same distribution')\n",
        "else:\n",
        "\tprint('Probably different distributions')"
      ],
      "execution_count": null,
      "outputs": []
    },
    {
      "cell_type": "markdown",
      "metadata": {
        "id": "A4f15u-NEi37"
      },
      "source": [
        "#### Analysis of Variance Test (ANOVA)\n",
        "\n",
        "Tests whether the means of two or more independent samples are significantly different.\n",
        "\n",
        "Assumptions\n",
        "\n",
        "* Observations in each sample are independent and identically distributed (iid).\n",
        "* Observations in each sample are normally distributed.\n",
        "* Observations in each sample have the same variance.  \n",
        "\n",
        "Interpretation\n",
        "\n",
        "* H0: the means of the samples are equal.\n",
        "* H1: one or more of the means of the samples are unequal."
      ]
    },
    {
      "cell_type": "code",
      "metadata": {
        "id": "yF7uV8DuEz4-"
      },
      "source": [
        "from scipy.stats import f_oneway\n",
        "data1 = [0.873, 2.817, 0.121, -0.945, -0.055, -1.436, 0.360, -1.478, -1.637, -1.869]\n",
        "data2 = [1.142, -0.432, -0.938, -0.729, -0.846, -0.157, 0.500, 1.183, -1.075, -0.169]\n",
        "data3 = [-0.208, 0.696, 0.928, -1.148, -0.213, 0.229, 0.137, 0.269, -0.870, -1.204]\n",
        "stat, p = f_oneway(data1, data2, data3)\n",
        "print('stat=%.3f, p=%.3f' % (stat, p))\n",
        "if p > 0.05:\n",
        "\tprint('Probably the same distribution')\n",
        "else:\n",
        "\tprint('Probably different distributions')"
      ],
      "execution_count": null,
      "outputs": []
    },
    {
      "cell_type": "markdown",
      "metadata": {
        "id": "_gFpq9wMCvn1"
      },
      "source": [
        "---"
      ]
    },
    {
      "cell_type": "markdown",
      "metadata": {
        "id": "mfHvDugvVdvi"
      },
      "source": [
        "## Installing and using Python in your computer\n",
        "\n",
        "* **RECOMMENDED**: Install Python, packages, and notebooks all at once with [Anaconda](https://www.anaconda.com/products/individual#Downloads).\n",
        "* [Manual installation](https://realpython.com/installing-python/)\n"
      ]
    },
    {
      "cell_type": "markdown",
      "metadata": {
        "id": "5wdZEVLCcP_l"
      },
      "source": [
        "## References  \n",
        "\n",
        "\n",
        "* [A Crash Course in Python for Scientists](https://github.com/rpmuller/PythonCrashCourse/blob/master/Crash%20Course.ipynb)\n",
        "* [Python Pandas DataFrame basics](https://github.com/Tanu-N-Prabhu/Python/blob/master/Pandas/Pandas_DataFrame.ipynb)\n",
        "* [Seaborn tutorial](https://github.com/derekbanas/seaborn/blob/master/SB%20Tut.ipynb)\n",
        "* [17 Statistical Hypothesis Tests in Python](https://machinelearningmastery.com/statistical-hypothesis-tests-in-python-cheat-sheet/)\n",
        "\n",
        "\n"
      ]
    }
  ]
}